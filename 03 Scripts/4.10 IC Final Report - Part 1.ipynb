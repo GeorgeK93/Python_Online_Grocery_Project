{
 "cells": [
  {
   "cell_type": "markdown",
   "id": "e1e76c35-91c5-4f0c-93a0-5fbd6c967226",
   "metadata": {},
   "source": [
    "# Instacart Final Report - Part 1"
   ]
  },
  {
   "cell_type": "markdown",
   "id": "c7729c98-32db-4906-8a8d-15082dfaf0f6",
   "metadata": {},
   "source": [
    "## Table of Contents:\n",
    "##### 01 - Importing Libraries\n",
    "##### 02 - Importing Data\n",
    "##### 03 - Data Security Considerations\n",
    "##### 04 - Regional Segmentation\n",
    "##### 05 - Creating Exclusion Flag\n",
    "##### 06 - Customer Profiling\n",
    "###### ------ 06.01 - Age\n",
    "###### ------ 06.02 - Income\n",
    "###### ------ 06.03 - Certain Departments\n",
    "###### ------ 06.04 - Number of Dependants\n",
    "##### 07 - Customer Profile Visualizations\n",
    "###### ------ 07.01 - Age\n",
    "###### ------ 07.02 - Income\n",
    "###### ------ 07.03 - Products\n",
    "###### ------ 07.04 - Number of Dependants\n",
    "##### 08 - Customer-Profile (Mean, Max & Min)\n",
    "##### 09 - Additional Visualizations - in part 2\n"
   ]
  },
  {
   "cell_type": "markdown",
   "id": "38e0c506-7095-445a-bd81-0b25d4934e70",
   "metadata": {},
   "source": [
    "### 01. Import Libraries"
   ]
  },
  {
   "cell_type": "code",
   "execution_count": 1,
   "id": "a91d2e09-b1e6-426e-b6a4-89cfde956e29",
   "metadata": {},
   "outputs": [],
   "source": [
    "# importing libraries\n",
    "import pandas as pd\n",
    "import numpy as np\n",
    "import os\n",
    "import matplotlib.pyplot as plt\n",
    "import seaborn as sns\n",
    "import scipy"
   ]
  },
  {
   "cell_type": "markdown",
   "id": "1361d1ce-c31a-477f-88b3-95e8cca93819",
   "metadata": {},
   "source": [
    "### 02. Importing Data"
   ]
  },
  {
   "cell_type": "code",
   "execution_count": 2,
   "id": "ecef3a98-e6d4-45ef-a312-902024f7d8ec",
   "metadata": {},
   "outputs": [],
   "source": [
    "# path shortcut\n",
    "path = r'C:\\Users\\georg\\Documents\\2025-02-05 Instacart Basket Analysis'"
   ]
  },
  {
   "cell_type": "code",
   "execution_count": 3,
   "id": "36cd262b-d0e5-44d4-b4ec-09b97085de2b",
   "metadata": {},
   "outputs": [],
   "source": [
    "# import dataset\n",
    "df_data = pd.read_pickle(os.path.join(path, '02 Data', 'Prepared Data', '2025.02.13_Data.pkl'))"
   ]
  },
  {
   "cell_type": "markdown",
   "id": "672b472e-2b5e-40a4-9f6f-e36dd89ae3fe",
   "metadata": {},
   "source": [
    "### 03. Data Security Considerations"
   ]
  },
  {
   "cell_type": "markdown",
   "id": "8b53de8e-8576-4f7a-939f-a8f48a1a6666",
   "metadata": {},
   "source": [
    "#### The dataset contains a lot of PII. The data contains customer first & last names as well as their ages and address (State)."
   ]
  },
  {
   "cell_type": "markdown",
   "id": "78a88c46-ace0-4c21-9599-af0cd5582ad7",
   "metadata": {},
   "source": [
    "### 04. Regional Segmentation"
   ]
  },
  {
   "cell_type": "code",
   "execution_count": 4,
   "id": "f8c23ec2-ec39-483f-9179-b998b3952c22",
   "metadata": {},
   "outputs": [],
   "source": [
    "# defining Northeast States\n",
    "northeast_states = ['Maine', 'New Hampshire', 'Vermont', 'Massachusetts', 'Rhode Island', 'Connecticut', 'New York', 'Pennsylvania', 'New Jersey']"
   ]
  },
  {
   "cell_type": "code",
   "execution_count": 5,
   "id": "643dc59c-322b-4ed2-9fa7-588793410050",
   "metadata": {},
   "outputs": [],
   "source": [
    "# defining Midwest States\n",
    "midwest_states = ['Wisconsin', 'Michigan', 'Illinois', 'Indiana', 'Ohio', 'North Dakota', 'South Dakota', 'Nebraska', 'Kansas', 'Minnesota', 'Iowa', 'Missouri']"
   ]
  },
  {
   "cell_type": "code",
   "execution_count": 6,
   "id": "47276d21-2625-4eb3-a012-0b3dbcbc84d2",
   "metadata": {},
   "outputs": [],
   "source": [
    "# defining South States\n",
    "south_states = ['Delaware', 'Maryland', 'District of Columbia', 'Virginia', 'West Virginia', 'North Carolina', 'South Carolina', 'Georgia', 'Florida', 'Kentucky', 'Tennessee', 'Mississippi', 'Alabama', 'Oklahoma', 'Texas', 'Arkansas', 'Louisiana']"
   ]
  },
  {
   "cell_type": "code",
   "execution_count": 7,
   "id": "62d67f9d-1124-49de-814b-ec3ecc7ce1ee",
   "metadata": {},
   "outputs": [],
   "source": [
    "# defining West States\n",
    "west_states = ['Idaho', 'Montana', 'Wyoming', 'Nevada', 'Utah', 'Colorado', 'Arizona', 'New Mexico', 'Alaska', 'Washington', 'Oregon', 'California', 'Hawaii']"
   ]
  },
  {
   "cell_type": "code",
   "execution_count": 8,
   "id": "3c66954a-979c-427a-8455-1d3a075b5848",
   "metadata": {},
   "outputs": [],
   "source": [
    "# creating the reion column\n",
    "df_data.loc[df_data['state'].isin(northeast_states), 'region'] = 'Northeast'\n",
    "df_data.loc[df_data['state'].isin(midwest_states), 'region'] = 'Midwest'\n",
    "df_data.loc[df_data['state'].isin(south_states), 'region'] = 'South'\n",
    "df_data.loc[df_data['state'].isin(west_states), 'region'] = 'West'"
   ]
  },
  {
   "cell_type": "code",
   "execution_count": 9,
   "id": "4892e883-80c5-4c03-9f53-92865ce394a5",
   "metadata": {},
   "outputs": [
    {
     "data": {
      "text/html": [
       "<div>\n",
       "<style scoped>\n",
       "    .dataframe tbody tr th:only-of-type {\n",
       "        vertical-align: middle;\n",
       "    }\n",
       "\n",
       "    .dataframe tbody tr th {\n",
       "        vertical-align: top;\n",
       "    }\n",
       "\n",
       "    .dataframe thead th {\n",
       "        text-align: right;\n",
       "    }\n",
       "</style>\n",
       "<table border=\"1\" class=\"dataframe\">\n",
       "  <thead>\n",
       "    <tr style=\"text-align: right;\">\n",
       "      <th></th>\n",
       "      <th>Unnamed: 0.1</th>\n",
       "      <th>Unnamed: 0_x</th>\n",
       "      <th>order_id</th>\n",
       "      <th>user_id</th>\n",
       "      <th>order_number</th>\n",
       "      <th>order_day_of_week</th>\n",
       "      <th>time_of_order</th>\n",
       "      <th>days_since_prior_order</th>\n",
       "      <th>product_id</th>\n",
       "      <th>add_to_cart_order</th>\n",
       "      <th>...</th>\n",
       "      <th>first_name</th>\n",
       "      <th>last_name</th>\n",
       "      <th>gender</th>\n",
       "      <th>state</th>\n",
       "      <th>age</th>\n",
       "      <th>date_joined</th>\n",
       "      <th>n_dependants</th>\n",
       "      <th>family_status</th>\n",
       "      <th>income</th>\n",
       "      <th>region</th>\n",
       "    </tr>\n",
       "  </thead>\n",
       "  <tbody>\n",
       "    <tr>\n",
       "      <th>0</th>\n",
       "      <td>0</td>\n",
       "      <td>0</td>\n",
       "      <td>2539329</td>\n",
       "      <td>1</td>\n",
       "      <td>1</td>\n",
       "      <td>2</td>\n",
       "      <td>8</td>\n",
       "      <td>NaN</td>\n",
       "      <td>196</td>\n",
       "      <td>1</td>\n",
       "      <td>...</td>\n",
       "      <td>Linda</td>\n",
       "      <td>Nguyen</td>\n",
       "      <td>Female</td>\n",
       "      <td>Alabama</td>\n",
       "      <td>31</td>\n",
       "      <td>2/17/2019</td>\n",
       "      <td>3</td>\n",
       "      <td>married</td>\n",
       "      <td>40423</td>\n",
       "      <td>South</td>\n",
       "    </tr>\n",
       "    <tr>\n",
       "      <th>1</th>\n",
       "      <td>0</td>\n",
       "      <td>0</td>\n",
       "      <td>2539329</td>\n",
       "      <td>1</td>\n",
       "      <td>1</td>\n",
       "      <td>2</td>\n",
       "      <td>8</td>\n",
       "      <td>NaN</td>\n",
       "      <td>14084</td>\n",
       "      <td>2</td>\n",
       "      <td>...</td>\n",
       "      <td>Linda</td>\n",
       "      <td>Nguyen</td>\n",
       "      <td>Female</td>\n",
       "      <td>Alabama</td>\n",
       "      <td>31</td>\n",
       "      <td>2/17/2019</td>\n",
       "      <td>3</td>\n",
       "      <td>married</td>\n",
       "      <td>40423</td>\n",
       "      <td>South</td>\n",
       "    </tr>\n",
       "    <tr>\n",
       "      <th>2</th>\n",
       "      <td>0</td>\n",
       "      <td>0</td>\n",
       "      <td>2539329</td>\n",
       "      <td>1</td>\n",
       "      <td>1</td>\n",
       "      <td>2</td>\n",
       "      <td>8</td>\n",
       "      <td>NaN</td>\n",
       "      <td>12427</td>\n",
       "      <td>3</td>\n",
       "      <td>...</td>\n",
       "      <td>Linda</td>\n",
       "      <td>Nguyen</td>\n",
       "      <td>Female</td>\n",
       "      <td>Alabama</td>\n",
       "      <td>31</td>\n",
       "      <td>2/17/2019</td>\n",
       "      <td>3</td>\n",
       "      <td>married</td>\n",
       "      <td>40423</td>\n",
       "      <td>South</td>\n",
       "    </tr>\n",
       "    <tr>\n",
       "      <th>3</th>\n",
       "      <td>0</td>\n",
       "      <td>0</td>\n",
       "      <td>2539329</td>\n",
       "      <td>1</td>\n",
       "      <td>1</td>\n",
       "      <td>2</td>\n",
       "      <td>8</td>\n",
       "      <td>NaN</td>\n",
       "      <td>26088</td>\n",
       "      <td>4</td>\n",
       "      <td>...</td>\n",
       "      <td>Linda</td>\n",
       "      <td>Nguyen</td>\n",
       "      <td>Female</td>\n",
       "      <td>Alabama</td>\n",
       "      <td>31</td>\n",
       "      <td>2/17/2019</td>\n",
       "      <td>3</td>\n",
       "      <td>married</td>\n",
       "      <td>40423</td>\n",
       "      <td>South</td>\n",
       "    </tr>\n",
       "    <tr>\n",
       "      <th>4</th>\n",
       "      <td>0</td>\n",
       "      <td>0</td>\n",
       "      <td>2539329</td>\n",
       "      <td>1</td>\n",
       "      <td>1</td>\n",
       "      <td>2</td>\n",
       "      <td>8</td>\n",
       "      <td>NaN</td>\n",
       "      <td>26405</td>\n",
       "      <td>5</td>\n",
       "      <td>...</td>\n",
       "      <td>Linda</td>\n",
       "      <td>Nguyen</td>\n",
       "      <td>Female</td>\n",
       "      <td>Alabama</td>\n",
       "      <td>31</td>\n",
       "      <td>2/17/2019</td>\n",
       "      <td>3</td>\n",
       "      <td>married</td>\n",
       "      <td>40423</td>\n",
       "      <td>South</td>\n",
       "    </tr>\n",
       "    <tr>\n",
       "      <th>5</th>\n",
       "      <td>1</td>\n",
       "      <td>1</td>\n",
       "      <td>2398795</td>\n",
       "      <td>1</td>\n",
       "      <td>2</td>\n",
       "      <td>3</td>\n",
       "      <td>7</td>\n",
       "      <td>15.0</td>\n",
       "      <td>196</td>\n",
       "      <td>1</td>\n",
       "      <td>...</td>\n",
       "      <td>Linda</td>\n",
       "      <td>Nguyen</td>\n",
       "      <td>Female</td>\n",
       "      <td>Alabama</td>\n",
       "      <td>31</td>\n",
       "      <td>2/17/2019</td>\n",
       "      <td>3</td>\n",
       "      <td>married</td>\n",
       "      <td>40423</td>\n",
       "      <td>South</td>\n",
       "    </tr>\n",
       "    <tr>\n",
       "      <th>6</th>\n",
       "      <td>1</td>\n",
       "      <td>1</td>\n",
       "      <td>2398795</td>\n",
       "      <td>1</td>\n",
       "      <td>2</td>\n",
       "      <td>3</td>\n",
       "      <td>7</td>\n",
       "      <td>15.0</td>\n",
       "      <td>10258</td>\n",
       "      <td>2</td>\n",
       "      <td>...</td>\n",
       "      <td>Linda</td>\n",
       "      <td>Nguyen</td>\n",
       "      <td>Female</td>\n",
       "      <td>Alabama</td>\n",
       "      <td>31</td>\n",
       "      <td>2/17/2019</td>\n",
       "      <td>3</td>\n",
       "      <td>married</td>\n",
       "      <td>40423</td>\n",
       "      <td>South</td>\n",
       "    </tr>\n",
       "    <tr>\n",
       "      <th>7</th>\n",
       "      <td>1</td>\n",
       "      <td>1</td>\n",
       "      <td>2398795</td>\n",
       "      <td>1</td>\n",
       "      <td>2</td>\n",
       "      <td>3</td>\n",
       "      <td>7</td>\n",
       "      <td>15.0</td>\n",
       "      <td>12427</td>\n",
       "      <td>3</td>\n",
       "      <td>...</td>\n",
       "      <td>Linda</td>\n",
       "      <td>Nguyen</td>\n",
       "      <td>Female</td>\n",
       "      <td>Alabama</td>\n",
       "      <td>31</td>\n",
       "      <td>2/17/2019</td>\n",
       "      <td>3</td>\n",
       "      <td>married</td>\n",
       "      <td>40423</td>\n",
       "      <td>South</td>\n",
       "    </tr>\n",
       "    <tr>\n",
       "      <th>8</th>\n",
       "      <td>1</td>\n",
       "      <td>1</td>\n",
       "      <td>2398795</td>\n",
       "      <td>1</td>\n",
       "      <td>2</td>\n",
       "      <td>3</td>\n",
       "      <td>7</td>\n",
       "      <td>15.0</td>\n",
       "      <td>13176</td>\n",
       "      <td>4</td>\n",
       "      <td>...</td>\n",
       "      <td>Linda</td>\n",
       "      <td>Nguyen</td>\n",
       "      <td>Female</td>\n",
       "      <td>Alabama</td>\n",
       "      <td>31</td>\n",
       "      <td>2/17/2019</td>\n",
       "      <td>3</td>\n",
       "      <td>married</td>\n",
       "      <td>40423</td>\n",
       "      <td>South</td>\n",
       "    </tr>\n",
       "    <tr>\n",
       "      <th>9</th>\n",
       "      <td>1</td>\n",
       "      <td>1</td>\n",
       "      <td>2398795</td>\n",
       "      <td>1</td>\n",
       "      <td>2</td>\n",
       "      <td>3</td>\n",
       "      <td>7</td>\n",
       "      <td>15.0</td>\n",
       "      <td>26088</td>\n",
       "      <td>5</td>\n",
       "      <td>...</td>\n",
       "      <td>Linda</td>\n",
       "      <td>Nguyen</td>\n",
       "      <td>Female</td>\n",
       "      <td>Alabama</td>\n",
       "      <td>31</td>\n",
       "      <td>2/17/2019</td>\n",
       "      <td>3</td>\n",
       "      <td>married</td>\n",
       "      <td>40423</td>\n",
       "      <td>South</td>\n",
       "    </tr>\n",
       "  </tbody>\n",
       "</table>\n",
       "<p>10 rows × 37 columns</p>\n",
       "</div>"
      ],
      "text/plain": [
       "   Unnamed: 0.1  Unnamed: 0_x  order_id  user_id  order_number  \\\n",
       "0             0             0   2539329        1             1   \n",
       "1             0             0   2539329        1             1   \n",
       "2             0             0   2539329        1             1   \n",
       "3             0             0   2539329        1             1   \n",
       "4             0             0   2539329        1             1   \n",
       "5             1             1   2398795        1             2   \n",
       "6             1             1   2398795        1             2   \n",
       "7             1             1   2398795        1             2   \n",
       "8             1             1   2398795        1             2   \n",
       "9             1             1   2398795        1             2   \n",
       "\n",
       "   order_day_of_week  time_of_order  days_since_prior_order  product_id  \\\n",
       "0                  2              8                     NaN         196   \n",
       "1                  2              8                     NaN       14084   \n",
       "2                  2              8                     NaN       12427   \n",
       "3                  2              8                     NaN       26088   \n",
       "4                  2              8                     NaN       26405   \n",
       "5                  3              7                    15.0         196   \n",
       "6                  3              7                    15.0       10258   \n",
       "7                  3              7                    15.0       12427   \n",
       "8                  3              7                    15.0       13176   \n",
       "9                  3              7                    15.0       26088   \n",
       "\n",
       "   add_to_cart_order  ...  first_name  last_name  gender    state  age  \\\n",
       "0                  1  ...       Linda     Nguyen  Female  Alabama   31   \n",
       "1                  2  ...       Linda     Nguyen  Female  Alabama   31   \n",
       "2                  3  ...       Linda     Nguyen  Female  Alabama   31   \n",
       "3                  4  ...       Linda     Nguyen  Female  Alabama   31   \n",
       "4                  5  ...       Linda     Nguyen  Female  Alabama   31   \n",
       "5                  1  ...       Linda     Nguyen  Female  Alabama   31   \n",
       "6                  2  ...       Linda     Nguyen  Female  Alabama   31   \n",
       "7                  3  ...       Linda     Nguyen  Female  Alabama   31   \n",
       "8                  4  ...       Linda     Nguyen  Female  Alabama   31   \n",
       "9                  5  ...       Linda     Nguyen  Female  Alabama   31   \n",
       "\n",
       "   date_joined n_dependants family_status income region  \n",
       "0    2/17/2019            3       married  40423  South  \n",
       "1    2/17/2019            3       married  40423  South  \n",
       "2    2/17/2019            3       married  40423  South  \n",
       "3    2/17/2019            3       married  40423  South  \n",
       "4    2/17/2019            3       married  40423  South  \n",
       "5    2/17/2019            3       married  40423  South  \n",
       "6    2/17/2019            3       married  40423  South  \n",
       "7    2/17/2019            3       married  40423  South  \n",
       "8    2/17/2019            3       married  40423  South  \n",
       "9    2/17/2019            3       married  40423  South  \n",
       "\n",
       "[10 rows x 37 columns]"
      ]
     },
     "execution_count": 9,
     "metadata": {},
     "output_type": "execute_result"
    }
   ],
   "source": [
    "df_data.head(10)"
   ]
  },
  {
   "cell_type": "code",
   "execution_count": 10,
   "id": "8b492e5f-324c-46e4-ab61-c40b0fc04e49",
   "metadata": {},
   "outputs": [
    {
     "data": {
      "text/plain": [
       "region\n",
       "South        10791885\n",
       "West          8292913\n",
       "Midwest       7597325\n",
       "Northeast     5722736\n",
       "Name: count, dtype: int64"
      ]
     },
     "execution_count": 10,
     "metadata": {},
     "output_type": "execute_result"
    }
   ],
   "source": [
    "# Checking to see if theres any missing data\n",
    "df_data['region'].value_counts(dropna = False)"
   ]
  },
  {
   "cell_type": "code",
   "execution_count": 12,
   "id": "4a187080-42a3-46fd-9560-c52d554f8140",
   "metadata": {},
   "outputs": [],
   "source": [
    "# creating crosstab to study spending habits\n",
    "crosstab = pd.crosstab(df_data['region'], df_data['spending_flag'], dropna = False)"
   ]
  },
  {
   "cell_type": "code",
   "execution_count": 13,
   "id": "b104d193-5897-4133-bcb0-135630cff44d",
   "metadata": {},
   "outputs": [],
   "source": [
    "# copying crosstab to excel\n",
    "crosstab.to_clipboard()"
   ]
  },
  {
   "cell_type": "code",
   "execution_count": 14,
   "id": "394831f1-b5d0-4c3c-8859-e80354d42c72",
   "metadata": {},
   "outputs": [],
   "source": [
    "# sorting crosstab by highspender col\n",
    "crosstab = crosstab.sort_values('High Spender', ascending = False)"
   ]
  },
  {
   "cell_type": "code",
   "execution_count": 15,
   "id": "7f95afae-7907-4a47-9755-f0334f91da88",
   "metadata": {},
   "outputs": [
    {
     "data": {
      "text/html": [
       "<div>\n",
       "<style scoped>\n",
       "    .dataframe tbody tr th:only-of-type {\n",
       "        vertical-align: middle;\n",
       "    }\n",
       "\n",
       "    .dataframe tbody tr th {\n",
       "        vertical-align: top;\n",
       "    }\n",
       "\n",
       "    .dataframe thead th {\n",
       "        text-align: right;\n",
       "    }\n",
       "</style>\n",
       "<table border=\"1\" class=\"dataframe\">\n",
       "  <thead>\n",
       "    <tr style=\"text-align: right;\">\n",
       "      <th>spending_flag</th>\n",
       "      <th>High Spender</th>\n",
       "      <th>Low Spender</th>\n",
       "    </tr>\n",
       "    <tr>\n",
       "      <th>region</th>\n",
       "      <th></th>\n",
       "      <th></th>\n",
       "    </tr>\n",
       "  </thead>\n",
       "  <tbody>\n",
       "    <tr>\n",
       "      <th>South</th>\n",
       "      <td>209691</td>\n",
       "      <td>10582194</td>\n",
       "    </tr>\n",
       "    <tr>\n",
       "      <th>West</th>\n",
       "      <td>160354</td>\n",
       "      <td>8132559</td>\n",
       "    </tr>\n",
       "    <tr>\n",
       "      <th>Midwest</th>\n",
       "      <td>155975</td>\n",
       "      <td>7441350</td>\n",
       "    </tr>\n",
       "    <tr>\n",
       "      <th>Northeast</th>\n",
       "      <td>108225</td>\n",
       "      <td>5614511</td>\n",
       "    </tr>\n",
       "  </tbody>\n",
       "</table>\n",
       "</div>"
      ],
      "text/plain": [
       "spending_flag  High Spender  Low Spender\n",
       "region                                  \n",
       "South                209691     10582194\n",
       "West                 160354      8132559\n",
       "Midwest              155975      7441350\n",
       "Northeast            108225      5614511"
      ]
     },
     "execution_count": 15,
     "metadata": {},
     "output_type": "execute_result"
    }
   ],
   "source": [
    "crosstab"
   ]
  },
  {
   "cell_type": "code",
   "execution_count": 16,
   "id": "aaf7d4cc-d1a0-4ba5-8d08-32d021aadc28",
   "metadata": {},
   "outputs": [],
   "source": [
    "# creating a % high spender col\n",
    "crosstab['% High Spender'] = crosstab['High Spender'] / (crosstab['High Spender'] + crosstab['Low Spender'])"
   ]
  },
  {
   "cell_type": "code",
   "execution_count": 17,
   "id": "6f9aeb45-dd78-46a8-a116-1ed78fc0ce64",
   "metadata": {},
   "outputs": [
    {
     "data": {
      "text/html": [
       "<div>\n",
       "<style scoped>\n",
       "    .dataframe tbody tr th:only-of-type {\n",
       "        vertical-align: middle;\n",
       "    }\n",
       "\n",
       "    .dataframe tbody tr th {\n",
       "        vertical-align: top;\n",
       "    }\n",
       "\n",
       "    .dataframe thead th {\n",
       "        text-align: right;\n",
       "    }\n",
       "</style>\n",
       "<table border=\"1\" class=\"dataframe\">\n",
       "  <thead>\n",
       "    <tr style=\"text-align: right;\">\n",
       "      <th>spending_flag</th>\n",
       "      <th>High Spender</th>\n",
       "      <th>Low Spender</th>\n",
       "      <th>% High Spender</th>\n",
       "    </tr>\n",
       "    <tr>\n",
       "      <th>region</th>\n",
       "      <th></th>\n",
       "      <th></th>\n",
       "      <th></th>\n",
       "    </tr>\n",
       "  </thead>\n",
       "  <tbody>\n",
       "    <tr>\n",
       "      <th>South</th>\n",
       "      <td>209691</td>\n",
       "      <td>10582194</td>\n",
       "      <td>1.94%</td>\n",
       "    </tr>\n",
       "    <tr>\n",
       "      <th>West</th>\n",
       "      <td>160354</td>\n",
       "      <td>8132559</td>\n",
       "      <td>1.93%</td>\n",
       "    </tr>\n",
       "    <tr>\n",
       "      <th>Midwest</th>\n",
       "      <td>155975</td>\n",
       "      <td>7441350</td>\n",
       "      <td>2.05%</td>\n",
       "    </tr>\n",
       "    <tr>\n",
       "      <th>Northeast</th>\n",
       "      <td>108225</td>\n",
       "      <td>5614511</td>\n",
       "      <td>1.89%</td>\n",
       "    </tr>\n",
       "  </tbody>\n",
       "</table>\n",
       "</div>"
      ],
      "text/plain": [
       "spending_flag  High Spender  Low Spender % High Spender\n",
       "region                                                 \n",
       "South                209691     10582194          1.94%\n",
       "West                 160354      8132559          1.93%\n",
       "Midwest              155975      7441350          2.05%\n",
       "Northeast            108225      5614511          1.89%"
      ]
     },
     "execution_count": 17,
     "metadata": {},
     "output_type": "execute_result"
    }
   ],
   "source": [
    "# changing the format of the new col to %\n",
    "crosstab['% High Spender'] = crosstab['% High Spender'].map('{:.2%}'.format)\n",
    "crosstab"
   ]
  },
  {
   "cell_type": "markdown",
   "id": "19dd6b0d-efb4-4d52-8552-b68eaf02ef79",
   "metadata": {},
   "source": [
    "#### If we just look at numbers, the South region had the largest number of highspenders.\n",
    "#### But if we actually consider the percentage of high spenders in the whole region, we notice that all regions had close to 2% of high spenders"
   ]
  },
  {
   "cell_type": "markdown",
   "id": "5bd00ef3-ef1a-444c-b220-2d0048981e91",
   "metadata": {},
   "source": [
    "### 05. Creating an Exclusion Flag"
   ]
  },
  {
   "cell_type": "code",
   "execution_count": 18,
   "id": "ba081863-4c27-401f-8cd7-f7e152e79498",
   "metadata": {},
   "outputs": [],
   "source": [
    "# assigning Exclusion Flag\n",
    "df_data.loc[df_data['max_order'] < 5, 'exclusion_flag'] = 'low activity customer'"
   ]
  },
  {
   "cell_type": "code",
   "execution_count": 19,
   "id": "ea792271-e1a6-4a65-9cb6-dce6da7994c2",
   "metadata": {},
   "outputs": [],
   "source": [
    "df_data.loc[df_data['max_order'] >= 5, 'exclusion_flag'] = 'high activity customer'"
   ]
  },
  {
   "cell_type": "code",
   "execution_count": 20,
   "id": "e3b282ef-c347-4492-ae0b-b54e56e64af6",
   "metadata": {},
   "outputs": [
    {
     "data": {
      "text/plain": [
       "exclusion_flag\n",
       "high activity customer    30964564\n",
       "low activity customer      1440295\n",
       "Name: count, dtype: int64"
      ]
     },
     "execution_count": 20,
     "metadata": {},
     "output_type": "execute_result"
    }
   ],
   "source": [
    "df_data['exclusion_flag'].value_counts(dropna = False)"
   ]
  },
  {
   "cell_type": "code",
   "execution_count": 21,
   "id": "962e3a8b-afba-45f1-82cd-63b4214ebe22",
   "metadata": {},
   "outputs": [],
   "source": [
    "# exclude low-activity customers from data\n",
    "df_data_2 = df_data[df_data['exclusion_flag'] == 'high activity customer']"
   ]
  },
  {
   "cell_type": "code",
   "execution_count": 22,
   "id": "58c83836-b6bb-40c0-9a8d-c80336f6ceb3",
   "metadata": {},
   "outputs": [
    {
     "data": {
      "text/plain": [
       "(30964564, 38)"
      ]
     },
     "execution_count": 22,
     "metadata": {},
     "output_type": "execute_result"
    }
   ],
   "source": [
    "# making sure the right number of rows were deleted\n",
    "df_data_2.shape"
   ]
  },
  {
   "cell_type": "markdown",
   "id": "855b1861-b8ea-4d4d-b45b-5714db09f299",
   "metadata": {},
   "source": [
    "#### number of rows = the number of high activity customers"
   ]
  },
  {
   "cell_type": "code",
   "execution_count": 26,
   "id": "16b6a0a8-b59e-45d7-b4c9-9a9e80f6d878",
   "metadata": {},
   "outputs": [],
   "source": [
    "# exporting new data set\n",
    "df_data_2.to_pickle(os.path.join(path, '02 Data', 'Prepared Data', '2025-02-15_High_activity_cust.pkl'))"
   ]
  },
  {
   "cell_type": "markdown",
   "id": "83ec07f4-a546-4f22-9a89-48458bfaf4f1",
   "metadata": {},
   "source": [
    "### 06. Customer Profiling"
   ]
  },
  {
   "cell_type": "markdown",
   "id": "98f8e233-150c-4648-bd4e-b148f5d17da6",
   "metadata": {},
   "source": [
    "#### 06.01 Age"
   ]
  },
  {
   "cell_type": "code",
   "execution_count": 27,
   "id": "c86c1f41-87c7-40e7-8050-83ab8a28e450",
   "metadata": {},
   "outputs": [
    {
     "data": {
      "text/plain": [
       "18"
      ]
     },
     "execution_count": 27,
     "metadata": {},
     "output_type": "execute_result"
    }
   ],
   "source": [
    "# figuring out the youngest customer's age\n",
    "df_data_2['age'].min()"
   ]
  },
  {
   "cell_type": "code",
   "execution_count": 28,
   "id": "b3014059-0e96-4a10-b8e5-ad4d4fec58ed",
   "metadata": {},
   "outputs": [
    {
     "name": "stderr",
     "output_type": "stream",
     "text": [
      "C:\\Users\\georg\\AppData\\Local\\Temp\\ipykernel_8716\\2492916376.py:2: SettingWithCopyWarning: \n",
      "A value is trying to be set on a copy of a slice from a DataFrame.\n",
      "Try using .loc[row_indexer,col_indexer] = value instead\n",
      "\n",
      "See the caveats in the documentation: https://pandas.pydata.org/pandas-docs/stable/user_guide/indexing.html#returning-a-view-versus-a-copy\n",
      "  df_data_2.loc[df_data_2['age'] <= 29, 'age_group'] = 'Young Adult'\n"
     ]
    }
   ],
   "source": [
    "# creating age group variable\n",
    "df_data_2.loc[df_data_2['age'] <= 29, 'age_group'] = 'Young Adult'"
   ]
  },
  {
   "cell_type": "code",
   "execution_count": 29,
   "id": "e345b4e8-9c18-4c6a-8f8f-da567ad2abf5",
   "metadata": {},
   "outputs": [],
   "source": [
    "df_data_2.loc[(df_data_2['age'] > 29) & (df_data_2['age'] <= 39), 'age_group'] = 'Adult'"
   ]
  },
  {
   "cell_type": "code",
   "execution_count": 30,
   "id": "af5ff8bc-6d22-42d2-bc40-36802ff771e7",
   "metadata": {},
   "outputs": [],
   "source": [
    "df_data_2.loc[(df_data_2['age'] > 39) & (df_data_2['age'] <= 59), 'age_group'] = 'Middle-Aged Adult'"
   ]
  },
  {
   "cell_type": "code",
   "execution_count": 31,
   "id": "f20c0592-93ff-43af-9436-29b62a79d25c",
   "metadata": {},
   "outputs": [],
   "source": [
    "df_data_2.loc[df_data_2['age'] > 59, 'age_group'] = 'Senior'"
   ]
  },
  {
   "cell_type": "code",
   "execution_count": 32,
   "id": "47a8f665-0cbc-48c8-bbce-ebd451c67c39",
   "metadata": {},
   "outputs": [
    {
     "data": {
      "text/plain": [
       "age_group\n",
       "Senior               10574504\n",
       "Middle-Aged Adult     9724950\n",
       "Young Adult           5817603\n",
       "Adult                 4847507\n",
       "Name: count, dtype: int64"
      ]
     },
     "execution_count": 32,
     "metadata": {},
     "output_type": "execute_result"
    }
   ],
   "source": [
    "df_data_2['age_group'].value_counts(dropna = False)"
   ]
  },
  {
   "cell_type": "markdown",
   "id": "33e5229a-035e-40cd-98d4-4c42c69985f8",
   "metadata": {},
   "source": [
    "#### 06.02 Income"
   ]
  },
  {
   "cell_type": "code",
   "execution_count": 33,
   "id": "e35e3758-3d6c-46bb-92c5-72f33d0cc4d0",
   "metadata": {},
   "outputs": [
    {
     "name": "stderr",
     "output_type": "stream",
     "text": [
      "C:\\Users\\georg\\AppData\\Local\\Temp\\ipykernel_8716\\2225267557.py:2: SettingWithCopyWarning: \n",
      "A value is trying to be set on a copy of a slice from a DataFrame.\n",
      "Try using .loc[row_indexer,col_indexer] = value instead\n",
      "\n",
      "See the caveats in the documentation: https://pandas.pydata.org/pandas-docs/stable/user_guide/indexing.html#returning-a-view-versus-a-copy\n",
      "  df_data_2.loc[df_data_2['income'] <= 56600, 'income_level'] = 'Low Income'\n"
     ]
    }
   ],
   "source": [
    "# creating Income level variable\n",
    "df_data_2.loc[df_data_2['income'] <= 56600, 'income_level'] = 'Low Income'"
   ]
  },
  {
   "cell_type": "code",
   "execution_count": 34,
   "id": "8aaee2b6-659c-406e-9150-a405f3c2de51",
   "metadata": {},
   "outputs": [],
   "source": [
    "df_data_2.loc[(df_data_2['income'] > 56600) & (df_data_2['income'] <= 169800), 'income_level'] = 'Middle Income'"
   ]
  },
  {
   "cell_type": "code",
   "execution_count": 35,
   "id": "3437f748-2bdf-41f6-b947-4ad9161adeb5",
   "metadata": {},
   "outputs": [],
   "source": [
    "df_data_2.loc[df_data_2['income'] > 169800, 'income_level'] = 'High Income'"
   ]
  },
  {
   "cell_type": "code",
   "execution_count": 36,
   "id": "3681c3af-37a5-4eca-8ecb-e5131c36e9d2",
   "metadata": {},
   "outputs": [
    {
     "data": {
      "text/plain": [
       "income_level\n",
       "Middle Income    25729841\n",
       "Low Income        4883273\n",
       "High Income        351450\n",
       "Name: count, dtype: int64"
      ]
     },
     "execution_count": 36,
     "metadata": {},
     "output_type": "execute_result"
    }
   ],
   "source": [
    "df_data_2['income_level'].value_counts(dropna = False)"
   ]
  },
  {
   "cell_type": "markdown",
   "id": "63bd2e8b-311a-426f-bc64-d4b9d90c6f09",
   "metadata": {},
   "source": [
    "#### 06.03 Certain Departments"
   ]
  },
  {
   "cell_type": "code",
   "execution_count": 37,
   "id": "9a949bab-7152-45df-8444-df4cb12600c1",
   "metadata": {},
   "outputs": [
    {
     "data": {
      "text/plain": [
       "Index(['Unnamed: 0.1', 'Unnamed: 0_x', 'order_id', 'user_id', 'order_number',\n",
       "       'order_day_of_week', 'time_of_order', 'days_since_prior_order',\n",
       "       'product_id', 'add_to_cart_order', 'reordered', 'Unnamed: 0_y',\n",
       "       'product_name', 'aisle_id', 'department_id', 'prices', '_merge',\n",
       "       'price_range_loc', 'busiest_day', 'day_activity_level',\n",
       "       'busiest_period_of_day', 'max_order', 'loyalty_flag',\n",
       "       'avg_product_price', 'spending_flag', 'medain_days_since_last_order',\n",
       "       'order_frequency_flag', 'first_name', 'last_name', 'gender', 'state',\n",
       "       'age', 'date_joined', 'n_dependants', 'family_status', 'income',\n",
       "       'region', 'exclusion_flag', 'age_group', 'income_level'],\n",
       "      dtype='object')"
      ]
     },
     "execution_count": 37,
     "metadata": {},
     "output_type": "execute_result"
    }
   ],
   "source": [
    "df_data_2.columns"
   ]
  },
  {
   "cell_type": "markdown",
   "id": "303c9a49-36fe-4046-a6df-57aa7216e8ff",
   "metadata": {},
   "source": [
    "#### we have the department_id, but we dont have the department name in the table"
   ]
  },
  {
   "cell_type": "code",
   "execution_count": 38,
   "id": "2fd72564-8bdf-4289-bbe8-d6046321150c",
   "metadata": {},
   "outputs": [],
   "source": [
    "# importing departments dataset\n",
    "df_dept = pd.read_csv(os.path.join(path, '02 Data', 'Prepared Data', 'departments_wrangled.csv'), index_col = False)"
   ]
  },
  {
   "cell_type": "code",
   "execution_count": 39,
   "id": "5acad27d-eaf1-4221-bcad-0bb45c2b7c67",
   "metadata": {},
   "outputs": [
    {
     "data": {
      "text/html": [
       "<div>\n",
       "<style scoped>\n",
       "    .dataframe tbody tr th:only-of-type {\n",
       "        vertical-align: middle;\n",
       "    }\n",
       "\n",
       "    .dataframe tbody tr th {\n",
       "        vertical-align: top;\n",
       "    }\n",
       "\n",
       "    .dataframe thead th {\n",
       "        text-align: right;\n",
       "    }\n",
       "</style>\n",
       "<table border=\"1\" class=\"dataframe\">\n",
       "  <thead>\n",
       "    <tr style=\"text-align: right;\">\n",
       "      <th></th>\n",
       "      <th>Unnamed: 0</th>\n",
       "      <th>department</th>\n",
       "    </tr>\n",
       "  </thead>\n",
       "  <tbody>\n",
       "    <tr>\n",
       "      <th>0</th>\n",
       "      <td>1</td>\n",
       "      <td>frozen</td>\n",
       "    </tr>\n",
       "    <tr>\n",
       "      <th>1</th>\n",
       "      <td>2</td>\n",
       "      <td>other</td>\n",
       "    </tr>\n",
       "    <tr>\n",
       "      <th>2</th>\n",
       "      <td>3</td>\n",
       "      <td>bakery</td>\n",
       "    </tr>\n",
       "    <tr>\n",
       "      <th>3</th>\n",
       "      <td>4</td>\n",
       "      <td>produce</td>\n",
       "    </tr>\n",
       "    <tr>\n",
       "      <th>4</th>\n",
       "      <td>5</td>\n",
       "      <td>alcohol</td>\n",
       "    </tr>\n",
       "  </tbody>\n",
       "</table>\n",
       "</div>"
      ],
      "text/plain": [
       "   Unnamed: 0 department\n",
       "0           1     frozen\n",
       "1           2      other\n",
       "2           3     bakery\n",
       "3           4    produce\n",
       "4           5    alcohol"
      ]
     },
     "execution_count": 39,
     "metadata": {},
     "output_type": "execute_result"
    }
   ],
   "source": [
    "df_dept.head()"
   ]
  },
  {
   "cell_type": "code",
   "execution_count": 40,
   "id": "9773c37a-986c-4a9e-a635-93f26f0c6f04",
   "metadata": {},
   "outputs": [],
   "source": [
    "# renaming unnamed col\n",
    "df_dept.rename(columns = {'Unnamed: 0' : 'department_id'}, inplace = True)"
   ]
  },
  {
   "cell_type": "code",
   "execution_count": 41,
   "id": "c712e8f8-90a9-41bc-ab7d-fe4cf26e30ec",
   "metadata": {},
   "outputs": [
    {
     "data": {
      "text/html": [
       "<div>\n",
       "<style scoped>\n",
       "    .dataframe tbody tr th:only-of-type {\n",
       "        vertical-align: middle;\n",
       "    }\n",
       "\n",
       "    .dataframe tbody tr th {\n",
       "        vertical-align: top;\n",
       "    }\n",
       "\n",
       "    .dataframe thead th {\n",
       "        text-align: right;\n",
       "    }\n",
       "</style>\n",
       "<table border=\"1\" class=\"dataframe\">\n",
       "  <thead>\n",
       "    <tr style=\"text-align: right;\">\n",
       "      <th></th>\n",
       "      <th>department_id</th>\n",
       "      <th>department</th>\n",
       "    </tr>\n",
       "  </thead>\n",
       "  <tbody>\n",
       "    <tr>\n",
       "      <th>0</th>\n",
       "      <td>1</td>\n",
       "      <td>frozen</td>\n",
       "    </tr>\n",
       "    <tr>\n",
       "      <th>1</th>\n",
       "      <td>2</td>\n",
       "      <td>other</td>\n",
       "    </tr>\n",
       "    <tr>\n",
       "      <th>2</th>\n",
       "      <td>3</td>\n",
       "      <td>bakery</td>\n",
       "    </tr>\n",
       "    <tr>\n",
       "      <th>3</th>\n",
       "      <td>4</td>\n",
       "      <td>produce</td>\n",
       "    </tr>\n",
       "    <tr>\n",
       "      <th>4</th>\n",
       "      <td>5</td>\n",
       "      <td>alcohol</td>\n",
       "    </tr>\n",
       "  </tbody>\n",
       "</table>\n",
       "</div>"
      ],
      "text/plain": [
       "   department_id department\n",
       "0              1     frozen\n",
       "1              2      other\n",
       "2              3     bakery\n",
       "3              4    produce\n",
       "4              5    alcohol"
      ]
     },
     "execution_count": 41,
     "metadata": {},
     "output_type": "execute_result"
    }
   ],
   "source": [
    "df_dept.head()"
   ]
  },
  {
   "cell_type": "code",
   "execution_count": 42,
   "id": "6b030e7e-c9c9-4016-8069-5f67f6eaef5d",
   "metadata": {},
   "outputs": [],
   "source": [
    "# merging the two tables\n",
    "df_data_3 = df_data_2.merge(df_dept, on = 'department_id')"
   ]
  },
  {
   "cell_type": "code",
   "execution_count": 43,
   "id": "f3900dd5-d141-4f1b-a637-f946be65e1fa",
   "metadata": {},
   "outputs": [
    {
     "data": {
      "text/plain": [
       "department_id  department     \n",
       "1              frozen             1\n",
       "12             meat seafood       1\n",
       "20             deli               1\n",
       "19             snacks             1\n",
       "18             babies             1\n",
       "17             household          1\n",
       "16             dairy eggs         1\n",
       "15             canned goods       1\n",
       "14             breakfast          1\n",
       "13             pantry             1\n",
       "11             personal care      1\n",
       "2              other              1\n",
       "10             bulk               1\n",
       "9              dry goods pasta    1\n",
       "8              pets               1\n",
       "7              beverages          1\n",
       "6              international      1\n",
       "5              alcohol            1\n",
       "4              produce            1\n",
       "3              bakery             1\n",
       "21             missing            1\n",
       "Name: count, dtype: int64"
      ]
     },
     "execution_count": 43,
     "metadata": {},
     "output_type": "execute_result"
    }
   ],
   "source": [
    "df_dept.value_counts(dropna = False)"
   ]
  },
  {
   "cell_type": "code",
   "execution_count": 44,
   "id": "78efcee2-f45d-483f-a0bc-a98af95911da",
   "metadata": {},
   "outputs": [],
   "source": [
    "# creating dept_category col\n",
    "df_data_3.loc[df_data_3['department_id'].isin([4, 12, 20]), 'dept_category'] = 'Fresh Food'\n",
    "df_data_3.loc[df_data_3['department_id'].isin([1, 9, 10, 13, 15]), 'dept_category'] = 'Frozen & Pantry'\n",
    "df_data_3.loc[df_data_3['department_id'].isin([3, 14, 19]), 'dept_category'] = 'Snacks & Breakfast'\n",
    "df_data_3.loc[df_data_3['department_id'].isin([11, 17]), 'dept_category'] = 'Household & Personal Care'\n",
    "df_data_3.loc[df_data_3['department_id'].isin([8, 18]), 'dept_category'] = 'Baby & Pet Care'\n",
    "df_data_3.loc[df_data_3['department_id'].isin([2, 21]), 'dept_category'] = 'Other'\n",
    "df_data_3.loc[df_data_3['department_id'] == 16, 'dept_category'] = 'Dairy & Eggs'\n",
    "df_data_3.loc[df_data_3['department_id'] == 6, 'dept_category'] = 'International Foods'\n",
    "df_data_3.loc[df_data_3['department_id'] == 5, 'dept_category'] = 'Alcohol'\n",
    "df_data_3.loc[df_data_3['department_id'] == 7, 'dept_category'] = 'Beverages'"
   ]
  },
  {
   "cell_type": "code",
   "execution_count": 45,
   "id": "ab830d9c-e551-4e36-9190-0bd6892f14b5",
   "metadata": {},
   "outputs": [
    {
     "data": {
      "text/plain": [
       "dept_category\n",
       "Fresh Food                   10757888\n",
       "Frozen & Pantry               5772097\n",
       "Dairy & Eggs                  5177182\n",
       "Snacks & Breakfast            4558084\n",
       "Beverages                     2571901\n",
       "Household & Personal Care     1124163\n",
       "Baby & Pet Care                503452\n",
       "International Foods            255991\n",
       "Alcohol                        144627\n",
       "Other                           99179\n",
       "Name: count, dtype: int64"
      ]
     },
     "execution_count": 45,
     "metadata": {},
     "output_type": "execute_result"
    }
   ],
   "source": [
    "df_data_3['dept_category'].value_counts(dropna = False)"
   ]
  },
  {
   "cell_type": "markdown",
   "id": "8c95b8df-a4a8-44fc-bb22-3d92aaff69ff",
   "metadata": {},
   "source": [
    "#### 06.04 Number of Dependents"
   ]
  },
  {
   "cell_type": "code",
   "execution_count": 46,
   "id": "c27b1290-e024-4366-9517-5ce843e77a4f",
   "metadata": {},
   "outputs": [],
   "source": [
    "# creating dependents variable column\n",
    "df_data_3.loc[df_data_3['n_dependants'] > 0, 'has_dependants'] = 'Has Dependants'"
   ]
  },
  {
   "cell_type": "code",
   "execution_count": 47,
   "id": "980c0061-09d8-4bf2-a7b8-fc42390cc644",
   "metadata": {},
   "outputs": [],
   "source": [
    "df_data_3.loc[df_data_3['n_dependants'] == 0, 'has_dependants'] = 'No Dependants'"
   ]
  },
  {
   "cell_type": "code",
   "execution_count": 48,
   "id": "6d0dbfa0-d43e-4115-af29-242d1aae62b0",
   "metadata": {},
   "outputs": [
    {
     "data": {
      "text/plain": [
       "has_dependants\n",
       "Has Dependants    23224883\n",
       "No Dependants      7739681\n",
       "Name: count, dtype: int64"
      ]
     },
     "execution_count": 48,
     "metadata": {},
     "output_type": "execute_result"
    }
   ],
   "source": [
    "df_data_3['has_dependants'].value_counts(dropna = False)"
   ]
  },
  {
   "cell_type": "markdown",
   "id": "d5da5d84-1f44-45f0-8678-285148a5c63a",
   "metadata": {},
   "source": [
    "### 07. Customer Profile Visualizations"
   ]
  },
  {
   "cell_type": "markdown",
   "id": "88c18d7c-f4ba-44b7-8ce9-0cd028698113",
   "metadata": {},
   "source": [
    "#### 07.01 Age"
   ]
  },
  {
   "cell_type": "code",
   "execution_count": 49,
   "id": "5e3fc3f6-71cf-4747-903d-2c5f29183111",
   "metadata": {},
   "outputs": [
    {
     "data": {
      "text/plain": [
       "Text(0, 0.5, '')"
      ]
     },
     "execution_count": 49,
     "metadata": {},
     "output_type": "execute_result"
    },
    {
     "data": {
      "image/png": "[encoded data removed]",
      "text/plain": [
       "<Figure size 640x480 with 1 Axes>"
      ]
     },
     "metadata": {},
     "output_type": "display_data"
    }
   ],
   "source": [
    "# Pie Chart showing diff age groups\n",
    "age_group_pie = df_data_3['age_group'].value_counts()\n",
    "age_group_pie = age_group_pie.plot.pie(autopct='%1.1f%%', labels = ['Seniors: Ages 60+', 'Middle-Age Adults: Ages 40-59', 'Young Adult: Ages 18-29', 'Adult: Ages 30-39'])\n",
    "\n",
    "plt.ylabel('')"
   ]
  },
  {
   "cell_type": "code",
   "execution_count": 50,
   "id": "7201da7a-fd15-4990-90cb-d8bc17bb0ce6",
   "metadata": {},
   "outputs": [
    {
     "data": {
      "text/plain": [
       "age_group\n",
       "Senior               10574504\n",
       "Middle-Aged Adult     9724950\n",
       "Young Adult           5817603\n",
       "Adult                 4847507\n",
       "Name: count, dtype: int64"
      ]
     },
     "execution_count": 50,
     "metadata": {},
     "output_type": "execute_result"
    }
   ],
   "source": [
    "df_data_3['age_group'].value_counts(dropna = False)"
   ]
  },
  {
   "cell_type": "code",
   "execution_count": 51,
   "id": "64b6b4fc-6ca5-404a-add9-53dd89f5a174",
   "metadata": {},
   "outputs": [],
   "source": [
    "# export pie\n",
    "age_group_pie.figure.savefig(os.path.join(path, '04 Analysis', 'Visualizations', 'age_group_pie_chart.png'), dpi = 300, bbox_inches = 'tight')"
   ]
  },
  {
   "cell_type": "code",
   "execution_count": 52,
   "id": "b8c51dbe-053d-4120-869b-ee8d6a7bec51",
   "metadata": {},
   "outputs": [
    {
     "data": {
      "text/plain": [
       "([<matplotlib.axis.YTick at 0x1f0045240e0>,\n",
       "  <matplotlib.axis.YTick at 0x1f003bdf230>,\n",
       "  <matplotlib.axis.YTick at 0x1f003c0ce90>,\n",
       "  <matplotlib.axis.YTick at 0x1f00456c1a0>,\n",
       "  <matplotlib.axis.YTick at 0x1f00456cc20>,\n",
       "  <matplotlib.axis.YTick at 0x1f00456d730>],\n",
       " [Text(0, 0, '0'),\n",
       "  Text(0, 2000000, '2000000'),\n",
       "  Text(0, 4000000, '4000000'),\n",
       "  Text(0, 6000000, '6000000'),\n",
       "  Text(0, 8000000, '8000000'),\n",
       "  Text(0, 10000000, '10000000')])"
      ]
     },
     "execution_count": 52,
     "metadata": {},
     "output_type": "execute_result"
    },
    {
     "data": {
      "image/png": "[encoded data removed]",
      "text/plain": [
       "<Figure size 640x480 with 1 Axes>"
      ]
     },
     "metadata": {},
     "output_type": "display_data"
    }
   ],
   "source": [
    "# Bar chart showing the diff age groups\n",
    "bar_age_group = df_data_3['age_group'].value_counts().plot.bar()\n",
    "\n",
    "# adding title\n",
    "plt.title('Customer Age Groups')\n",
    "# formatting x-axis\n",
    "plt.xlabel('')\n",
    "plt.xticks(rotation = 0)\n",
    "# formatting y-axis\n",
    "plt.ylabel('No. of Customers')\n",
    "plt.yticks(np.arange(0, 12000000, 2000000),\n",
    "           [int(value) if np.floor(value) == value else value for value in np.arange(0, 12000000, 2000000)])"
   ]
  },
  {
   "cell_type": "code",
   "execution_count": 53,
   "id": "0bdfc4e1-f922-46e0-b6f5-e5de7117c85f",
   "metadata": {},
   "outputs": [],
   "source": [
    "# exporting bar chart\n",
    "bar_age_group.figure.savefig(os.path.join(path, '04 Analysis', 'Visualizations', 'bar_age_group.png'),dpi = 300, bbox_inches = 'tight')"
   ]
  },
  {
   "cell_type": "markdown",
   "id": "f6f1b4f4-56e1-4282-9bee-57106318bb17",
   "metadata": {},
   "source": [
    "#### 07.02 Income"
   ]
  },
  {
   "cell_type": "code",
   "execution_count": 54,
   "id": "850a3ba6-d5ba-4835-8a52-0aebd713a914",
   "metadata": {},
   "outputs": [
    {
     "data": {
      "text/plain": [
       "(array([0, 1, 2]),\n",
       " [Text(0, 0, 'Middle Income'),\n",
       "  Text(1, 0, 'Low Income'),\n",
       "  Text(2, 0, 'High Income')])"
      ]
     },
     "execution_count": 54,
     "metadata": {},
     "output_type": "execute_result"
    },
    {
     "data": {
      "image/png": "[encoded data removed]",
      "text/plain": [
       "<Figure size 640x480 with 1 Axes>"
      ]
     },
     "metadata": {},
     "output_type": "display_data"
    }
   ],
   "source": [
    "# bar chart showign the diff income levels\n",
    "bar_income_level = df_data_3['income_level'].value_counts().plot.bar(color = ['skyblue', 'orangered', 'green'])\n",
    "\n",
    "# Adding Title\n",
    "plt.title('Customer Income Levels')\n",
    "# Formatting Y-Axis\n",
    "plt.ylabel('No. of Customers')\n",
    "plt.yticks(np.arange(0, 30000000, 5000000),\n",
    "           [int(value) if np.floor(value) == value else value for value in np.arange(0, 30000000, 5000000)])\n",
    "# Formatting X-Axis\n",
    "plt.xlabel('')\n",
    "plt.xticks(rotation = 0)"
   ]
  },
  {
   "cell_type": "code",
   "execution_count": 55,
   "id": "cf491024-58ba-4cc0-82df-8d58a3db75f6",
   "metadata": {},
   "outputs": [],
   "source": [
    "# exporting bar chart\n",
    "bar_income_level.figure.savefig(os.path.join(path, '04 Analysis', 'Visualizations', 'bar_income_level.png'),dpi = 300, bbox_inches = 'tight')"
   ]
  },
  {
   "cell_type": "markdown",
   "id": "8763c57b-e91c-4bef-986d-56a2b7352d29",
   "metadata": {},
   "source": [
    "#### 07.03 Products"
   ]
  },
  {
   "cell_type": "code",
   "execution_count": 56,
   "id": "2be2d558-73f3-4adb-a4f2-177eafc4479d",
   "metadata": {},
   "outputs": [
    {
     "data": {
      "text/plain": [
       "(array([0, 1, 2, 3, 4, 5, 6, 7, 8, 9]),\n",
       " [Text(0, 0, 'Fresh Food'),\n",
       "  Text(1, 0, 'Frozen & Pantry'),\n",
       "  Text(2, 0, 'Dairy & Eggs'),\n",
       "  Text(3, 0, 'Snacks & Breakfast'),\n",
       "  Text(4, 0, 'Beverages'),\n",
       "  Text(5, 0, 'Household & Personal Care'),\n",
       "  Text(6, 0, 'Baby & Pet Care'),\n",
       "  Text(7, 0, 'International Foods'),\n",
       "  Text(8, 0, 'Alcohol'),\n",
       "  Text(9, 0, 'Other')])"
      ]
     },
     "execution_count": 56,
     "metadata": {},
     "output_type": "execute_result"
    },
    {
     "data": {
      "image/png": "[encoded data removed]",
      "text/plain": [
       "<Figure size 640x480 with 1 Axes>"
      ]
     },
     "metadata": {},
     "output_type": "display_data"
    }
   ],
   "source": [
    "# creating a bar chart\n",
    "\n",
    "bar_products = df_data_3['dept_category'].value_counts().plot.bar()\n",
    "\n",
    "# Adding Title\n",
    "plt.title('Product Departement by Volume')\n",
    "# Formatting Y-Axis\n",
    "plt.ylabel('No. of Orders')\n",
    "plt.yticks(np.arange(0, 12000000, 2000000),\n",
    "           [int(value) if np.floor(value) == value else value for value in np.arange(0, 12000000, 2000000)])\n",
    "# Formatting X-Axis\n",
    "plt.xlabel('Departments')\n",
    "plt.xticks(rotation = 45, ha = 'right', wrap = True, fontsize = 8)\n"
   ]
  },
  {
   "cell_type": "code",
   "execution_count": 57,
   "id": "68fec30a-0536-472f-8761-1b479472dabb",
   "metadata": {},
   "outputs": [],
   "source": [
    "# exporting bar chart\n",
    "bar_products.figure.savefig(os.path.join(path, '04 Analysis', 'Visualizations', 'bar_products.png'),dpi = 300, bbox_inches = 'tight')"
   ]
  },
  {
   "cell_type": "markdown",
   "id": "faeaf2f3-eaed-4ae4-bdc0-179dd9b56ce8",
   "metadata": {},
   "source": [
    "#### 07.04 Number of Dependents"
   ]
  },
  {
   "cell_type": "code",
   "execution_count": 58,
   "id": "49b4bc4f-c011-4933-9eb3-96f394af46ab",
   "metadata": {},
   "outputs": [
    {
     "data": {
      "text/plain": [
       "Text(0, 0.5, '')"
      ]
     },
     "execution_count": 58,
     "metadata": {},
     "output_type": "execute_result"
    },
    {
     "data": {
      "image/png": "[encoded data removed]",
      "text/plain": [
       "<Figure size 640x480 with 1 Axes>"
      ]
     },
     "metadata": {},
     "output_type": "display_data"
    }
   ],
   "source": [
    "# Pie Chart showing diff age groups\n",
    "dependents_pie = df_data_3['has_dependants'].value_counts()\n",
    "dependents_pie = dependents_pie.plot.pie(\n",
    "    autopct='%1.1f%%', labels = ['Has Dependants', 'No Dependants'],\n",
    "    explode = [0, 0.15], wedgeprops = {'edgecolor' : 'black'})\n",
    "\n",
    "# formatting\n",
    "plt.title('Customers with Dependants')\n",
    "plt.ylabel('')"
   ]
  },
  {
   "cell_type": "code",
   "execution_count": 59,
   "id": "433f7fba-b4ff-42f4-830a-67c02185ddb0",
   "metadata": {},
   "outputs": [],
   "source": [
    "# exporting pie chart\n",
    "dependents_pie.figure.savefig(os.path.join(path, '04 Analysis', 'Visualizations', 'pie_dependants.png'),dpi = 300, bbox_inches = 'tight')"
   ]
  },
  {
   "cell_type": "markdown",
   "id": "5012170e-59c6-4121-b645-309952136ee7",
   "metadata": {},
   "source": [
    "### 08. Customer-Profile Mean, Max and Min "
   ]
  },
  {
   "cell_type": "code",
   "execution_count": 60,
   "id": "9c8313b6-2ea2-4ca1-a1e5-7bf002cf96a4",
   "metadata": {},
   "outputs": [],
   "source": [
    "# creating a new col showing order totals\n",
    "df_order_totals = df_data_3.groupby(['user_id', 'order_number'])['prices'].sum().reset_index()\n",
    "df_order_totals.rename(columns={'prices': 'order_total'}, inplace=True)"
   ]
  },
  {
   "cell_type": "code",
   "execution_count": 61,
   "id": "94faaa5f-e175-4f4b-b1a4-04a085cc357b",
   "metadata": {},
   "outputs": [],
   "source": [
    "# merging this col into data_3\n",
    "df_data_3 = df_data_3.merge(df_order_totals, on=['user_id', 'order_number'], how='left')"
   ]
  },
  {
   "cell_type": "code",
   "execution_count": 64,
   "id": "66aef7bb-4e5b-4735-9cd8-5d06f854c5fc",
   "metadata": {},
   "outputs": [],
   "source": [
    "# summarizing customer behavior by calculating the mean, max and min of order number and amount spent\n",
    "customer_agg = df_data_3.groupby(['age_group', 'income_level', 'has_dependants']).agg({\n",
    "    'order_number': ['max', 'mean', 'min'], \n",
    "    'order_total': ['max', 'mean', 'min'] \n",
    "}).reset_index()"
   ]
  },
  {
   "cell_type": "code",
   "execution_count": 65,
   "id": "a7f4f2cb-cd15-4f27-879a-b30f871b3ef9",
   "metadata": {},
   "outputs": [
    {
     "data": {
      "text/html": [
       "<div>\n",
       "<style scoped>\n",
       "    .dataframe tbody tr th:only-of-type {\n",
       "        vertical-align: middle;\n",
       "    }\n",
       "\n",
       "    .dataframe tbody tr th {\n",
       "        vertical-align: top;\n",
       "    }\n",
       "\n",
       "    .dataframe thead tr th {\n",
       "        text-align: left;\n",
       "    }\n",
       "</style>\n",
       "<table border=\"1\" class=\"dataframe\">\n",
       "  <thead>\n",
       "    <tr>\n",
       "      <th></th>\n",
       "      <th>age_group</th>\n",
       "      <th>income_level</th>\n",
       "      <th>has_dependants</th>\n",
       "      <th colspan=\"3\" halign=\"left\">order_number</th>\n",
       "      <th colspan=\"3\" halign=\"left\">order_total</th>\n",
       "    </tr>\n",
       "    <tr>\n",
       "      <th></th>\n",
       "      <th></th>\n",
       "      <th></th>\n",
       "      <th></th>\n",
       "      <th>max</th>\n",
       "      <th>mean</th>\n",
       "      <th>min</th>\n",
       "      <th>max</th>\n",
       "      <th>mean</th>\n",
       "      <th>min</th>\n",
       "    </tr>\n",
       "  </thead>\n",
       "  <tbody>\n",
       "    <tr>\n",
       "      <th>0</th>\n",
       "      <td>Adult</td>\n",
       "      <td>High Income</td>\n",
       "      <td>Has Dependants</td>\n",
       "      <td>99</td>\n",
       "      <td>19.424291</td>\n",
       "      <td>1</td>\n",
       "      <td>669.3</td>\n",
       "      <td>147.028167</td>\n",
       "      <td>0.0</td>\n",
       "    </tr>\n",
       "    <tr>\n",
       "      <th>1</th>\n",
       "      <td>Adult</td>\n",
       "      <td>High Income</td>\n",
       "      <td>No Dependants</td>\n",
       "      <td>86</td>\n",
       "      <td>17.326277</td>\n",
       "      <td>1</td>\n",
       "      <td>435.8</td>\n",
       "      <td>140.990947</td>\n",
       "      <td>0.0</td>\n",
       "    </tr>\n",
       "    <tr>\n",
       "      <th>2</th>\n",
       "      <td>Adult</td>\n",
       "      <td>Low Income</td>\n",
       "      <td>Has Dependants</td>\n",
       "      <td>99</td>\n",
       "      <td>17.346423</td>\n",
       "      <td>1</td>\n",
       "      <td>829.2</td>\n",
       "      <td>111.809784</td>\n",
       "      <td>1.0</td>\n",
       "    </tr>\n",
       "    <tr>\n",
       "      <th>3</th>\n",
       "      <td>Adult</td>\n",
       "      <td>Low Income</td>\n",
       "      <td>No Dependants</td>\n",
       "      <td>99</td>\n",
       "      <td>17.386800</td>\n",
       "      <td>1</td>\n",
       "      <td>561.6</td>\n",
       "      <td>110.630120</td>\n",
       "      <td>1.0</td>\n",
       "    </tr>\n",
       "    <tr>\n",
       "      <th>4</th>\n",
       "      <td>Adult</td>\n",
       "      <td>Middle Income</td>\n",
       "      <td>Has Dependants</td>\n",
       "      <td>99</td>\n",
       "      <td>18.159148</td>\n",
       "      <td>1</td>\n",
       "      <td>775.7</td>\n",
       "      <td>128.454856</td>\n",
       "      <td>0.0</td>\n",
       "    </tr>\n",
       "    <tr>\n",
       "      <th>5</th>\n",
       "      <td>Adult</td>\n",
       "      <td>Middle Income</td>\n",
       "      <td>No Dependants</td>\n",
       "      <td>99</td>\n",
       "      <td>18.079835</td>\n",
       "      <td>1</td>\n",
       "      <td>584.6</td>\n",
       "      <td>125.562150</td>\n",
       "      <td>0.0</td>\n",
       "    </tr>\n",
       "    <tr>\n",
       "      <th>6</th>\n",
       "      <td>Middle-Aged Adult</td>\n",
       "      <td>High Income</td>\n",
       "      <td>Has Dependants</td>\n",
       "      <td>99</td>\n",
       "      <td>19.326119</td>\n",
       "      <td>1</td>\n",
       "      <td>1047.4</td>\n",
       "      <td>135.371269</td>\n",
       "      <td>0.0</td>\n",
       "    </tr>\n",
       "    <tr>\n",
       "      <th>7</th>\n",
       "      <td>Middle-Aged Adult</td>\n",
       "      <td>High Income</td>\n",
       "      <td>No Dependants</td>\n",
       "      <td>99</td>\n",
       "      <td>22.945009</td>\n",
       "      <td>1</td>\n",
       "      <td>571.9</td>\n",
       "      <td>136.501736</td>\n",
       "      <td>2.1</td>\n",
       "    </tr>\n",
       "    <tr>\n",
       "      <th>8</th>\n",
       "      <td>Middle-Aged Adult</td>\n",
       "      <td>Low Income</td>\n",
       "      <td>Has Dependants</td>\n",
       "      <td>99</td>\n",
       "      <td>16.535097</td>\n",
       "      <td>1</td>\n",
       "      <td>667.8</td>\n",
       "      <td>88.804984</td>\n",
       "      <td>1.0</td>\n",
       "    </tr>\n",
       "    <tr>\n",
       "      <th>9</th>\n",
       "      <td>Middle-Aged Adult</td>\n",
       "      <td>Low Income</td>\n",
       "      <td>No Dependants</td>\n",
       "      <td>99</td>\n",
       "      <td>17.319525</td>\n",
       "      <td>1</td>\n",
       "      <td>712.0</td>\n",
       "      <td>86.347440</td>\n",
       "      <td>1.0</td>\n",
       "    </tr>\n",
       "    <tr>\n",
       "      <th>10</th>\n",
       "      <td>Middle-Aged Adult</td>\n",
       "      <td>Middle Income</td>\n",
       "      <td>Has Dependants</td>\n",
       "      <td>99</td>\n",
       "      <td>17.848461</td>\n",
       "      <td>1</td>\n",
       "      <td>1092.2</td>\n",
       "      <td>126.181527</td>\n",
       "      <td>0.0</td>\n",
       "    </tr>\n",
       "    <tr>\n",
       "      <th>11</th>\n",
       "      <td>Middle-Aged Adult</td>\n",
       "      <td>Middle Income</td>\n",
       "      <td>No Dependants</td>\n",
       "      <td>99</td>\n",
       "      <td>18.151233</td>\n",
       "      <td>1</td>\n",
       "      <td>690.6</td>\n",
       "      <td>125.043615</td>\n",
       "      <td>0.0</td>\n",
       "    </tr>\n",
       "    <tr>\n",
       "      <th>12</th>\n",
       "      <td>Senior</td>\n",
       "      <td>High Income</td>\n",
       "      <td>Has Dependants</td>\n",
       "      <td>99</td>\n",
       "      <td>19.678748</td>\n",
       "      <td>1</td>\n",
       "      <td>566.8</td>\n",
       "      <td>133.063602</td>\n",
       "      <td>0.0</td>\n",
       "    </tr>\n",
       "    <tr>\n",
       "      <th>13</th>\n",
       "      <td>Senior</td>\n",
       "      <td>High Income</td>\n",
       "      <td>No Dependants</td>\n",
       "      <td>99</td>\n",
       "      <td>20.068513</td>\n",
       "      <td>1</td>\n",
       "      <td>579.4</td>\n",
       "      <td>123.249509</td>\n",
       "      <td>0.0</td>\n",
       "    </tr>\n",
       "    <tr>\n",
       "      <th>14</th>\n",
       "      <td>Senior</td>\n",
       "      <td>Low Income</td>\n",
       "      <td>Has Dependants</td>\n",
       "      <td>99</td>\n",
       "      <td>16.864405</td>\n",
       "      <td>1</td>\n",
       "      <td>539.9</td>\n",
       "      <td>86.425605</td>\n",
       "      <td>1.0</td>\n",
       "    </tr>\n",
       "    <tr>\n",
       "      <th>15</th>\n",
       "      <td>Senior</td>\n",
       "      <td>Low Income</td>\n",
       "      <td>No Dependants</td>\n",
       "      <td>99</td>\n",
       "      <td>16.790080</td>\n",
       "      <td>1</td>\n",
       "      <td>875.0</td>\n",
       "      <td>87.515008</td>\n",
       "      <td>1.0</td>\n",
       "    </tr>\n",
       "    <tr>\n",
       "      <th>16</th>\n",
       "      <td>Senior</td>\n",
       "      <td>Middle Income</td>\n",
       "      <td>Has Dependants</td>\n",
       "      <td>99</td>\n",
       "      <td>17.817750</td>\n",
       "      <td>1</td>\n",
       "      <td>787.0</td>\n",
       "      <td>125.569945</td>\n",
       "      <td>0.0</td>\n",
       "    </tr>\n",
       "    <tr>\n",
       "      <th>17</th>\n",
       "      <td>Senior</td>\n",
       "      <td>Middle Income</td>\n",
       "      <td>No Dependants</td>\n",
       "      <td>99</td>\n",
       "      <td>18.094682</td>\n",
       "      <td>1</td>\n",
       "      <td>736.7</td>\n",
       "      <td>126.241578</td>\n",
       "      <td>1.0</td>\n",
       "    </tr>\n",
       "    <tr>\n",
       "      <th>18</th>\n",
       "      <td>Young Adult</td>\n",
       "      <td>High Income</td>\n",
       "      <td>Has Dependants</td>\n",
       "      <td>99</td>\n",
       "      <td>18.853111</td>\n",
       "      <td>1</td>\n",
       "      <td>497.1</td>\n",
       "      <td>120.581317</td>\n",
       "      <td>1.0</td>\n",
       "    </tr>\n",
       "    <tr>\n",
       "      <th>19</th>\n",
       "      <td>Young Adult</td>\n",
       "      <td>High Income</td>\n",
       "      <td>No Dependants</td>\n",
       "      <td>58</td>\n",
       "      <td>16.994148</td>\n",
       "      <td>1</td>\n",
       "      <td>621.2</td>\n",
       "      <td>155.838856</td>\n",
       "      <td>3.7</td>\n",
       "    </tr>\n",
       "    <tr>\n",
       "      <th>20</th>\n",
       "      <td>Young Adult</td>\n",
       "      <td>Low Income</td>\n",
       "      <td>Has Dependants</td>\n",
       "      <td>99</td>\n",
       "      <td>17.254659</td>\n",
       "      <td>1</td>\n",
       "      <td>842.1</td>\n",
       "      <td>109.960187</td>\n",
       "      <td>1.0</td>\n",
       "    </tr>\n",
       "    <tr>\n",
       "      <th>21</th>\n",
       "      <td>Young Adult</td>\n",
       "      <td>Low Income</td>\n",
       "      <td>No Dependants</td>\n",
       "      <td>99</td>\n",
       "      <td>17.424543</td>\n",
       "      <td>1</td>\n",
       "      <td>593.3</td>\n",
       "      <td>110.392077</td>\n",
       "      <td>1.0</td>\n",
       "    </tr>\n",
       "    <tr>\n",
       "      <th>22</th>\n",
       "      <td>Young Adult</td>\n",
       "      <td>Middle Income</td>\n",
       "      <td>Has Dependants</td>\n",
       "      <td>99</td>\n",
       "      <td>18.052476</td>\n",
       "      <td>1</td>\n",
       "      <td>750.3</td>\n",
       "      <td>126.636909</td>\n",
       "      <td>0.0</td>\n",
       "    </tr>\n",
       "    <tr>\n",
       "      <th>23</th>\n",
       "      <td>Young Adult</td>\n",
       "      <td>Middle Income</td>\n",
       "      <td>No Dependants</td>\n",
       "      <td>99</td>\n",
       "      <td>17.742346</td>\n",
       "      <td>1</td>\n",
       "      <td>624.3</td>\n",
       "      <td>125.947204</td>\n",
       "      <td>1.0</td>\n",
       "    </tr>\n",
       "  </tbody>\n",
       "</table>\n",
       "</div>"
      ],
      "text/plain": [
       "            age_group   income_level  has_dependants order_number             \\\n",
       "                                                              max       mean   \n",
       "0               Adult    High Income  Has Dependants           99  19.424291   \n",
       "1               Adult    High Income   No Dependants           86  17.326277   \n",
       "2               Adult     Low Income  Has Dependants           99  17.346423   \n",
       "3               Adult     Low Income   No Dependants           99  17.386800   \n",
       "4               Adult  Middle Income  Has Dependants           99  18.159148   \n",
       "5               Adult  Middle Income   No Dependants           99  18.079835   \n",
       "6   Middle-Aged Adult    High Income  Has Dependants           99  19.326119   \n",
       "7   Middle-Aged Adult    High Income   No Dependants           99  22.945009   \n",
       "8   Middle-Aged Adult     Low Income  Has Dependants           99  16.535097   \n",
       "9   Middle-Aged Adult     Low Income   No Dependants           99  17.319525   \n",
       "10  Middle-Aged Adult  Middle Income  Has Dependants           99  17.848461   \n",
       "11  Middle-Aged Adult  Middle Income   No Dependants           99  18.151233   \n",
       "12             Senior    High Income  Has Dependants           99  19.678748   \n",
       "13             Senior    High Income   No Dependants           99  20.068513   \n",
       "14             Senior     Low Income  Has Dependants           99  16.864405   \n",
       "15             Senior     Low Income   No Dependants           99  16.790080   \n",
       "16             Senior  Middle Income  Has Dependants           99  17.817750   \n",
       "17             Senior  Middle Income   No Dependants           99  18.094682   \n",
       "18        Young Adult    High Income  Has Dependants           99  18.853111   \n",
       "19        Young Adult    High Income   No Dependants           58  16.994148   \n",
       "20        Young Adult     Low Income  Has Dependants           99  17.254659   \n",
       "21        Young Adult     Low Income   No Dependants           99  17.424543   \n",
       "22        Young Adult  Middle Income  Has Dependants           99  18.052476   \n",
       "23        Young Adult  Middle Income   No Dependants           99  17.742346   \n",
       "\n",
       "       order_total                   \n",
       "   min         max        mean  min  \n",
       "0    1       669.3  147.028167  0.0  \n",
       "1    1       435.8  140.990947  0.0  \n",
       "2    1       829.2  111.809784  1.0  \n",
       "3    1       561.6  110.630120  1.0  \n",
       "4    1       775.7  128.454856  0.0  \n",
       "5    1       584.6  125.562150  0.0  \n",
       "6    1      1047.4  135.371269  0.0  \n",
       "7    1       571.9  136.501736  2.1  \n",
       "8    1       667.8   88.804984  1.0  \n",
       "9    1       712.0   86.347440  1.0  \n",
       "10   1      1092.2  126.181527  0.0  \n",
       "11   1       690.6  125.043615  0.0  \n",
       "12   1       566.8  133.063602  0.0  \n",
       "13   1       579.4  123.249509  0.0  \n",
       "14   1       539.9   86.425605  1.0  \n",
       "15   1       875.0   87.515008  1.0  \n",
       "16   1       787.0  125.569945  0.0  \n",
       "17   1       736.7  126.241578  1.0  \n",
       "18   1       497.1  120.581317  1.0  \n",
       "19   1       621.2  155.838856  3.7  \n",
       "20   1       842.1  109.960187  1.0  \n",
       "21   1       593.3  110.392077  1.0  \n",
       "22   1       750.3  126.636909  0.0  \n",
       "23   1       624.3  125.947204  1.0  "
      ]
     },
     "execution_count": 65,
     "metadata": {},
     "output_type": "execute_result"
    }
   ],
   "source": [
    "customer_agg"
   ]
  },
  {
   "cell_type": "code",
   "execution_count": 66,
   "id": "0fe844f3-c639-4768-b73c-6d86f670817d",
   "metadata": {},
   "outputs": [],
   "source": [
    "customer_agg.to_clipboard()"
   ]
  },
  {
   "cell_type": "markdown",
   "id": "f5ebaafd-2f48-462b-ab26-b6b4ac17162d",
   "metadata": {},
   "source": [
    "### 09. Additional Visualizations"
   ]
  },
  {
   "cell_type": "code",
   "execution_count": 69,
   "id": "e2498cde-e3cc-4206-abd7-4379fc739bc1",
   "metadata": {},
   "outputs": [],
   "source": [
    "#exporting data_3\n",
    "\n",
    "df_data_3.to_pickle(os.path.join(path, '02 Data', 'Prepared Data', '2025.02.16_Data.pkl'))"
   ]
  },
  {
   "cell_type": "code",
   "execution_count": null,
   "id": "c7cc19d0-c5ca-4332-8711-a3c00be6987b",
   "metadata": {},
   "outputs": [],
   "source": []
  }
 ],
 "metadata": {
  "kernelspec": {
   "display_name": "Python 3 (ipykernel)",
   "language": "python",
   "name": "python3"
  },
  "language_info": {
   "codemirror_mode": {
    "name": "ipython",
    "version": 3
   },
   "file_extension": ".py",
   "mimetype": "text/x-python",
   "name": "python",
   "nbconvert_exporter": "python",
   "pygments_lexer": "ipython3",
   "version": "3.12.7"
  }
 },
 "nbformat": 4,
 "nbformat_minor": 5
}
